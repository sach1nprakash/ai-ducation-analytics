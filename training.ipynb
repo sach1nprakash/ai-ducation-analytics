{
 "cells": [
  {
   "cell_type": "code",
   "execution_count": 1,
   "id": "aaef1e1b-ecba-4381-83be-5a9bc2e70977",
   "metadata": {},
   "outputs": [],
   "source": [
    "from keras.preprocessing.image import ImageDataGenerator\n",
    "from keras import backend as K\n",
    "import numpy as np\n",
    "from keras.preprocessing import image\n",
    "from matplotlib import pyplot\n",
    "\n"
   ]
  },
  {
   "cell_type": "code",
   "execution_count": 2,
   "id": "94d01175-6d4e-4d50-a1a7-196e65b8120f",
   "metadata": {},
   "outputs": [],
   "source": [
    "img_width,img_height =800,600\n",
    "train_data_dir='dataset/train'\n",
    "validation_data_dir='dataset/test'\n",
    "batch_size=8"
   ]
  },
  {
   "cell_type": "code",
   "execution_count": 3,
   "id": "72b9f361-2d89-4395-bf9e-66ddb02ad4de",
   "metadata": {},
   "outputs": [],
   "source": [
    "if K.image_data_format() == 'channels_first' :\n",
    "    input_shape = (3,img_width,img_height)\n",
    "else:\n",
    "    input_shape = (img_width,img_height,3)"
   ]
  },
  {
   "cell_type": "code",
   "execution_count": 4,
   "id": "4c000a7d-31e1-4921-923e-3476872351a4",
   "metadata": {},
   "outputs": [],
   "source": [
    "train_datagen = ImageDataGenerator(\n",
    "     rescale=1.0/255,\n",
    "    rotation_range=40,\n",
    "    width_shift_range=0.2,\n",
    "    height_shift_range=0.2,\n",
    "    shear_range=0.2,\n",
    "    zoom_range=0.2,\n",
    "    horizontal_flip=True,\n",
    "    fill_mode='nearest',\n",
    "    featurewise_center=True,\n",
    "    featurewise_std_normalization=True,\n",
    "    brightness_range=[0.5, 1.5] \n",
    ")\n",
    "\n",
    "test_datagen = ImageDataGenerator(rescale=1. / 255)"
   ]
  },
  {
   "cell_type": "code",
   "execution_count": 6,
   "id": "94c8ef54-446b-49b5-9ed8-2a3942c59850",
   "metadata": {},
   "outputs": [
    {
     "name": "stdout",
     "output_type": "stream",
     "text": [
      "Found 2895 images belonging to 4 classes.\n",
      "Found 360 images belonging to 4 classes.\n"
     ]
    }
   ],
   "source": [
    "train_generator = train_datagen.flow_from_directory(\n",
    "     train_data_dir,\n",
    "     target_size=(img_width,img_height),\n",
    "     batch_size=batch_size,\n",
    "     class_mode='categorical')\n",
    "\n",
    "validation_generator = test_datagen.flow_from_directory(\n",
    "     validation_data_dir,\n",
    "     target_size=(img_width,img_height),\n",
    "     batch_size=batch_size,\n",
    "     class_mode='categorical')"
   ]
  },
  {
   "cell_type": "code",
   "execution_count": null,
   "id": "60e8b539-8b7f-421e-a155-157431ed9793",
   "metadata": {},
   "outputs": [],
   "source": []
  }
 ],
 "metadata": {
  "kernelspec": {
   "display_name": "Python 3 (ipykernel)",
   "language": "python",
   "name": "python3"
  },
  "language_info": {
   "codemirror_mode": {
    "name": "ipython",
    "version": 3
   },
   "file_extension": ".py",
   "mimetype": "text/x-python",
   "name": "python",
   "nbconvert_exporter": "python",
   "pygments_lexer": "ipython3",
   "version": "3.10.0"
  }
 },
 "nbformat": 4,
 "nbformat_minor": 5
}
